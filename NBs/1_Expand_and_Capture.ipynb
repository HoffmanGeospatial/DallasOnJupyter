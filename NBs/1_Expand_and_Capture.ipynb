{
 "cells": [
  {
   "cell_type": "markdown",
   "metadata": {
    "kernel": "SoS"
   },
   "source": [
    "# Working with subkernels"
   ]
  },
  {
   "cell_type": "markdown",
   "metadata": {
    "kernel": "SoS"
   },
   "source": [
    "Unless you would like to start multiple versions of the same kernel or link a language module to a kernel that is not recognized by SoS, you can start a subkernel simply by selecting the language from the language dropdown to the top right corner of each cell."
   ]
  },
  {
   "cell_type": "markdown",
   "metadata": {
    "kernel": "SoS"
   },
   "source": [
    "## Sending input to subkernel"
   ]
  },
  {
   "cell_type": "markdown",
   "metadata": {
    "kernel": "SoS"
   },
   "source": [
    "The SoS language is based on Python 3.6+ so \n",
    "any python statements are acceptable\n"
   ]
  },
  {
   "cell_type": "code",
   "execution_count": 1,
   "metadata": {
    "kernel": "SoS"
   },
   "outputs": [],
   "source": [
    "filename = '1_Expand_and_Capture.ipynb'"
   ]
  },
  {
   "cell_type": "code",
   "execution_count": 2,
   "metadata": {
    "kernel": "Bash",
    "scrolled": true
   },
   "outputs": [
    {
     "name": "stdout",
     "output_type": "stream",
     "text": [
      "     352 1_Expand_and_Capture.ipynb\n"
     ]
    }
   ],
   "source": [
    "wc -l 1_Expand_and_Capture.ipynb"
   ]
  },
  {
   "cell_type": "markdown",
   "metadata": {
    "kernel": "Bash"
   },
   "source": [
    "With magic `%expand`, cell content is expanded as Python f-string before sending to the subkernel"
   ]
  },
  {
   "cell_type": "code",
   "execution_count": 3,
   "metadata": {
    "kernel": "Bash"
   },
   "outputs": [
    {
     "name": "stdout",
     "output_type": "stream",
     "text": [
      "     352 1_Expand_and_Capture.ipynb\n"
     ]
    }
   ],
   "source": [
    "%expand\n",
    "wc -l {filename}"
   ]
  },
  {
   "cell_type": "code",
   "execution_count": 4,
   "metadata": {
    "kernel": "JavaScript"
   },
   "outputs": [
    {
     "data": {
      "text/plain": [
       "{ cells: \n",
       "   [ { cell_type: 'markdown', metadata: [Object], source: [Array] },\n",
       "     { cell_type: 'markdown', metadata: [Object], source: [Array] },\n",
       "     { cell_type: 'markdown', metadata: [Object], source: [Array] },\n",
       "     { cell_type: 'markdown', metadata: [Object], source: [Array] },\n",
       "     { cell_type: 'code',\n",
       "       execution_count: 1,\n",
       "       metadata: [Object],\n",
       "       outputs: [],\n",
       "       source: [Array] },\n",
       "     { cell_type: 'code',\n",
       "       execution_count: 2,\n",
       "       metadata: [Object],\n",
       "       outputs: [Array],\n",
       "       source: [Array] },\n",
       "     { cell_type: 'markdown', metadata: [Object], source: [Array] },\n",
       "     { cell_type: 'code',\n",
       "       execution_count: 3,\n",
       "       metadata: [Object],\n",
       "       outputs: [Array],\n",
       "       source: [Array] },\n",
       "     { cell_type: 'code',\n",
       "       execution_count: 4,\n",
       "       metadata: [Object],\n",
       "       outputs: [Array],\n",
       "       source: [Array] },\n",
       "     { cell_type: 'markdown', metadata: [Object], source: [Array] },\n",
       "     { cell_type: 'code',\n",
       "       execution_count: 5,\n",
       "       metadata: [Object],\n",
       "       outputs: [Array],\n",
       "       source: [Array] },\n",
       "     { cell_type: 'code',\n",
       "       execution_count: 6,\n",
       "       metadata: [Object],\n",
       "       outputs: [Array],\n",
       "       source: [Array] },\n",
       "     { cell_type: 'code',\n",
       "       execution_count: 7,\n",
       "       metadata: [Object],\n",
       "       outputs: [Array],\n",
       "       source: [Array] },\n",
       "     { cell_type: 'code',\n",
       "       execution_count: 8,\n",
       "       metadata: [Object],\n",
       "       outputs: [Array],\n",
       "       source: [Array] } ],\n",
       "  metadata: \n",
       "   { kernelspec: { display_name: 'SoS', language: 'sos', name: 'sos' },\n",
       "     language_info: \n",
       "      { codemirror_mode: 'sos',\n",
       "        file_extension: '.sos',\n",
       "        mimetype: 'text/x-sos',\n",
       "        name: 'sos',\n",
       "        nbconvert_exporter: 'sos_notebook.converter.SoS_Exporter',\n",
       "        pygments_lexer: 'sos' },\n",
       "     sos: { kernels: [Array], panel: [Object], version: '0.9.16.7' } },\n",
       "  nbformat: 4,\n",
       "  nbformat_minor: 2 }"
      ]
     },
     "execution_count": 4,
     "metadata": {},
     "output_type": "execute_result"
    }
   ],
   "source": [
    "%expand\n",
    "var fs = require('fs');\n",
    "JSON.parse(fs.readFileSync(\"{filename}\", 'utf8'));"
   ]
  },
  {
   "cell_type": "markdown",
   "metadata": {
    "kernel": "JavaScript"
   },
   "source": [
    "## Capture output from subkernels"
   ]
  },
  {
   "cell_type": "code",
   "execution_count": 5,
   "metadata": {
    "kernel": "Bash"
   },
   "outputs": [
    {
     "name": "stdout",
     "output_type": "stream",
     "text": [
      "     352 1_Expand_and_Capture.ipynb\n"
     ]
    }
   ],
   "source": [
    "%capture --to res\n",
    "%expand\n",
    "wc -l {filename}"
   ]
  },
  {
   "cell_type": "code",
   "execution_count": 6,
   "metadata": {
    "kernel": "SoS"
   },
   "outputs": [
    {
     "data": {
      "text/plain": [
       "'     352 1_Expand_and_Capture.ipynb\\n'"
      ]
     },
     "execution_count": 6,
     "metadata": {},
     "output_type": "execute_result"
    }
   ],
   "source": [
    "res"
   ]
  },
  {
   "cell_type": "code",
   "execution_count": 7,
   "metadata": {
    "kernel": "sparql"
   },
   "outputs": [
    {
     "data": {
      "text/html": [
       "<div class=\"krn-spql\"><div class=\"magic\">Endpoint set to: http://dbpedia.org/sparql</div><div class=\"magic\">Display: table</div></div>"
      ],
      "text/plain": [
       "Endpoint set to: http://dbpedia.org/sparql\n",
       "Display: table\n"
      ]
     },
     "metadata": {},
     "output_type": "display_data"
    },
    {
     "data": {
      "text/html": [
       "<div class=\"krn-spql\"><table><tr class=hdr><th>property</th></tr><tr class=odd><td class=val><a href=\"http://www.w3.org/2002/07/owl#differentFrom\" target=\"_other\">http://www.w3.org/2002/07/owl#differentFrom</a></td></tr><tr class=even><td class=val><a href=\"http://www.w3.org/2000/01/rdf-schema#seeAlso\" target=\"_other\">http://www.w3.org/2000/01/rdf-schema#seeAlso</a></td></tr><tr class=odd><td class=val><a href=\"http://www.w3.org/2002/07/owl#sameAs\" target=\"_other\">http://www.w3.org/2002/07/owl#sameAs</a></td></tr></table><div class=\"tinfo\">Total: 3, Shown: 3</div></div>"
      ]
     },
     "metadata": {},
     "output_type": "display_data"
    }
   ],
   "source": [
    "%capture html --to result\n",
    "\n",
    "%endpoint http://dbpedia.org/sparql\n",
    "%display table \n",
    "SELECT DISTINCT ?property\n",
    "WHERE {\n",
    "   ?s ?property ?person .\n",
    "   ?person rdf:type foaf:Person .\n",
    "}\n",
    "LIMIT 3"
   ]
  },
  {
   "cell_type": "code",
   "execution_count": 8,
   "metadata": {
    "kernel": "SoS"
   },
   "outputs": [
    {
     "data": {
      "text/plain": [
       "['http://www.w3.org/2002/07/owl#differentFrom',\n",
       " 'http://www.w3.org/2000/01/rdf-schema#seeAlso',\n",
       " 'http://www.w3.org/2002/07/owl#sameAs']"
      ]
     },
     "execution_count": 8,
     "metadata": {},
     "output_type": "execute_result"
    }
   ],
   "source": [
    "from bs4 import BeautifulSoup as Soup\n",
    "html = Soup(result, 'html.parser') \n",
    "[a['href'] for a in html.find_all('a')]"
   ]
  }
 ],
 "metadata": {
  "kernelspec": {
   "display_name": "SoS",
   "language": "sos",
   "name": "sos"
  },
  "language_info": {
   "codemirror_mode": "sos",
   "file_extension": ".sos",
   "mimetype": "text/x-sos",
   "name": "sos",
   "nbconvert_exporter": "sos_notebook.converter.SoS_Exporter",
   "pygments_lexer": "sos"
  },
  "sos": {
   "kernels": [
    [
     "Bash",
     "bash",
     "Bash",
     "#E6EEFF"
    ],
    [
     "JavaScript",
     "javascript",
     "JavaScript",
     "#c8e1ae"
    ],
    [
     "SoS",
     "sos",
     "",
     ""
    ]
   ],
   "panel": {
    "displayed": true,
    "height": "251.571px",
    "style": "side"
   },
   "version": "0.9.16.7"
  }
 },
 "nbformat": 4,
 "nbformat_minor": 2
}
