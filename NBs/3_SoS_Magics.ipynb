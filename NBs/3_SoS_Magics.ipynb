{
 "cells": [
  {
   "cell_type": "markdown",
   "metadata": {
    "kernel": "SoS"
   },
   "source": [
    "# SoS Magics (Preview, session, and report)"
   ]
  },
  {
   "cell_type": "code",
   "execution_count": 1,
   "metadata": {
    "kernel": "SoS",
    "tags": [
     "report_output"
    ]
   },
   "outputs": [
    {
     "data": {
      "text/html": [
       "\n",
       "        <table class=\"revision_table\">\n",
       "        <tr>\n",
       "        <th>Revision</th>\n",
       "        <th>Author</th>\n",
       "        <th>Date</th>\n",
       "        <th>Message</th>\n",
       "        <tr>\n",
       "        <tr><td><span class=\"revision_id\">514e219<span></td>\n",
       "<td>Bo Peng</td>\n",
       "<td>2018-08-21</td>\n",
       "<td>Update notebooks</td></tr><tr><td><span class=\"revision_id\">4a06c81<span></td>\n",
       "<td>Bo Peng</td>\n",
       "<td>2018-08-18</td>\n",
       "<td>Update figures</td></tr><tr><td><span class=\"revision_id\">6bc69ee<span></td>\n",
       "<td>Bo Peng</td>\n",
       "<td>2018-08-18</td>\n",
       "<td>Update magics noterbook and slides</td></tr><tr><td><span class=\"revision_id\">b625104<span></td>\n",
       "<td>Bo Peng</td>\n",
       "<td>2018-08-17</td>\n",
       "<td>Complete preview magic</td></tr><tr><td><span class=\"revision_id\">cfa7fb1<span></td>\n",
       "<td>Bo Peng</td>\n",
       "<td>2018-08-16</td>\n",
       "<td>Add skeleton of examples</td></tr></table>"
      ]
     },
     "metadata": {},
     "output_type": "display_data"
    }
   ],
   "source": [
    "%revisions"
   ]
  },
  {
   "cell_type": "markdown",
   "metadata": {
    "kernel": "SoS"
   },
   "source": [
    "## `%preview`"
   ]
  },
  {
   "cell_type": "code",
   "execution_count": 2,
   "metadata": {
    "kernel": "SoS"
   },
   "outputs": [
    {
     "name": "stderr",
     "output_type": "stream",
     "text": [
      "Loading required package: feather\n"
     ]
    }
   ],
   "source": [
    "%preview mtcars\n",
    "%get mtcars --from R"
   ]
  },
  {
   "cell_type": "code",
   "execution_count": 3,
   "metadata": {
    "kernel": "R",
    "tags": [
     "report_output"
    ]
   },
   "outputs": [
    {
     "data": {
      "text/html": [
       "<strong>pdf:</strong> 2"
      ],
      "text/latex": [
       "\\textbf{pdf:} 2"
      ],
      "text/markdown": [
       "**pdf:** 2"
      ],
      "text/plain": [
       "pdf \n",
       "  2 "
      ]
     },
     "metadata": {},
     "output_type": "display_data"
    },
    {
     "data": {
      "text/html": [
       "<div class=\"sos_hint\">%preview scatterplot.png</div>"
      ]
     },
     "metadata": {},
     "output_type": "display_data"
    },
    {
     "data": {
      "text/html": [
       "<div class=\"sos_hint\">> scatterplot.png (17.9 KiB):</div>"
      ],
      "text/plain": [
       "\n",
       "> scatterplot.png (17.9 KiB):"
      ]
     },
     "metadata": {},
     "output_type": "display_data"
    },
    {
     "data": {
      "image/png": "[encoded data removed]"
     },
     "metadata": {},
     "output_type": "display_data"
    }
   ],
   "source": [
    "%preview -n scatterplot.png\n",
    "png('scatterplot.png', width=500, height=300)\n",
    "plot(mtcars$wt, mtcars$mpg, main=\"Scatterplot of mtcars\", \n",
    "    xlab=\"Car Weight\", ylab=\"Miles Per Gallon \")\n",
    "dev.off()"
   ]
  },
  {
   "cell_type": "code",
   "execution_count": 4,
   "metadata": {
    "kernel": "JavaScript"
   },
   "outputs": [
    {
     "data": {
      "text/plain": [
       "{ 'Mazda RX4': \n",
       "   { mpg: 21,\n",
       "     cyl: 6,\n",
       "     disp: 160,\n",
       "     hp: 110,\n",
       "     drat: 3.9,\n",
       "     wt: 2.62,\n",
       "     qsec: 16.46,\n",
       "     vs: 0,\n",
       "     am: 1,\n",
       "     gear: 4,\n",
       "     carb: 4 },\n",
       "  'Mazda RX4 Wag': \n",
       "   { mpg: 21,\n",
       "     cyl: 6,\n",
       "     disp: 160,\n",
       "     hp: 110,\n",
       "     drat: 3.9,\n",
       "     wt: 2.875,\n",
       "     qsec: 17.02,\n",
       "     vs: 0,\n",
       "     am: 1,\n",
       "     gear: 4,\n",
       "     carb: 4 },\n",
       "  'Datsun 710': \n",
       "   { mpg: 22.8,\n",
       "     cyl: 4,\n",
       "     disp: 108,\n",
       "     hp: 93,\n",
       "     drat: 3.85,\n",
       "     wt: 2.32,\n",
       "     qsec: 18.61,\n",
       "     vs: 1,\n",
       "     am: 1,\n",
       "     gear: 4,\n",
       "     carb: 1 },\n",
       "  'Hornet 4 Drive': \n",
       "   { mpg: 21.4,\n",
       "     cyl: 6,\n",
       "     disp: 258,\n",
       "     hp: 110,\n",
       "     drat: 3.08,\n",
       "     wt: 3.215,\n",
       "     qsec: 19.44,\n",
       "     vs: 1,\n",
       "     am: 0,\n",
       "     gear: 3,\n",
       "     carb: 1 },\n",
       "  'Hornet Sportabout': \n",
       "   { mpg: 18.7,\n",
       "     cyl: 8,\n",
       "     disp: 360,\n",
       "     hp: 175,\n",
       "     drat: 3.15,\n",
       "     wt: 3.44,\n",
       "     qsec: 17.02,\n",
       "     vs: 0,\n",
       "     am: 0,\n",
       "     gear: 3,\n",
       "     carb: 2 },\n",
       "  Valiant: \n",
       "   { mpg: 18.1,\n",
       "     cyl: 6,\n",
       "     disp: 225,\n",
       "     hp: 105,\n",
       "     drat: 2.76,\n",
       "     wt: 3.46,\n",
       "     qsec: 20.22,\n",
       "     vs: 1,\n",
       "     am: 0,\n",
       "     gear: 3,\n",
       "     carb: 1 },\n",
       "  'Duster 360': \n",
       "   { mpg: 14.3,\n",
       "     cyl: 8,\n",
       "     disp: 360,\n",
       "     hp: 245,\n",
       "     drat: 3.21,\n",
       "     wt: 3.57,\n",
       "     qsec: 15.84,\n",
       "     vs: 0,\n",
       "     am: 0,\n",
       "     gear: 3,\n",
       "     carb: 4 },\n",
       "  'Merc 240D': \n",
       "   { mpg: 24.4,\n",
       "     cyl: 4,\n",
       "     disp: 146.7,\n",
       "     hp: 62,\n",
       "     drat: 3.69,\n",
       "     wt: 3.19,\n",
       "     qsec: 20,\n",
       "     vs: 1,\n",
       "     am: 0,\n",
       "     gear: 4,\n",
       "     carb: 2 },\n",
       "  'Merc 230': \n",
       "   { mpg: 22.8,\n",
       "     cyl: 4,\n",
       "     disp: 140.8,\n",
       "     hp: 95,\n",
       "     drat: 3.92,\n",
       "     wt: 3.15,\n",
       "     qsec: 22.9,\n",
       "     vs: 1,\n",
       "     am: 0,\n",
       "     gear: 4,\n",
       "     carb: 2 },\n",
       "  'Merc 280': \n",
       "   { mpg: 19.2,\n",
       "     cyl: 6,\n",
       "     disp: 167.6,\n",
       "     hp: 123,\n",
       "     drat: 3.92,\n",
       "     wt: 3.44,\n",
       "     qsec: 18.3,\n",
       "     vs: 1,\n",
       "     am: 0,\n",
       "     gear: 4,\n",
       "     carb: 4 },\n",
       "  'Merc 280C': \n",
       "   { mpg: 17.8,\n",
       "     cyl: 6,\n",
       "     disp: 167.6,\n",
       "     hp: 123,\n",
       "     drat: 3.92,\n",
       "     wt: 3.44,\n",
       "     qsec: 18.9,\n",
       "     vs: 1,\n",
       "     am: 0,\n",
       "     gear: 4,\n",
       "     carb: 4 },\n",
       "  'Merc 450SE': \n",
       "   { mpg: 16.4,\n",
       "     cyl: 8,\n",
       "     disp: 275.8,\n",
       "     hp: 180,\n",
       "     drat: 3.07,\n",
       "     wt: 4.07,\n",
       "     qsec: 17.4,\n",
       "     vs: 0,\n",
       "     am: 0,\n",
       "     gear: 3,\n",
       "     carb: 3 },\n",
       "  'Merc 450SL': \n",
       "   { mpg: 17.3,\n",
       "     cyl: 8,\n",
       "     disp: 275.8,\n",
       "     hp: 180,\n",
       "     drat: 3.07,\n",
       "     wt: 3.73,\n",
       "     qsec: 17.6,\n",
       "     vs: 0,\n",
       "     am: 0,\n",
       "     gear: 3,\n",
       "     carb: 3 },\n",
       "  'Merc 450SLC': \n",
       "   { mpg: 15.2,\n",
       "     cyl: 8,\n",
       "     disp: 275.8,\n",
       "     hp: 180,\n",
       "     drat: 3.07,\n",
       "     wt: 3.78,\n",
       "     qsec: 18,\n",
       "     vs: 0,\n",
       "     am: 0,\n",
       "     gear: 3,\n",
       "     carb: 3 },\n",
       "  'Cadillac Fleetwood': \n",
       "   { mpg: 10.4,\n",
       "     cyl: 8,\n",
       "     disp: 472,\n",
       "     hp: 205,\n",
       "     drat: 2.93,\n",
       "     wt: 5.25,\n",
       "     qsec: 17.98,\n",
       "     vs: 0,\n",
       "     am: 0,\n",
       "     gear: 3,\n",
       "     carb: 4 },\n",
       "  'Lincoln Continental': \n",
       "   { mpg: 10.4,\n",
       "     cyl: 8,\n",
       "     disp: 460,\n",
       "     hp: 215,\n",
       "     drat: 3,\n",
       "     wt: 5.424,\n",
       "     qsec: 17.82,\n",
       "     vs: 0,\n",
       "     am: 0,\n",
       "     gear: 3,\n",
       "     carb: 4 },\n",
       "  'Chrysler Imperial': \n",
       "   { mpg: 14.7,\n",
       "     cyl: 8,\n",
       "     disp: 440,\n",
       "     hp: 230,\n",
       "     drat: 3.23,\n",
       "     wt: 5.345,\n",
       "     qsec: 17.42,\n",
       "     vs: 0,\n",
       "     am: 0,\n",
       "     gear: 3,\n",
       "     carb: 4 },\n",
       "  'Fiat 128': \n",
       "   { mpg: 32.4,\n",
       "     cyl: 4,\n",
       "     disp: 78.7,\n",
       "     hp: 66,\n",
       "     drat: 4.08,\n",
       "     wt: 2.2,\n",
       "     qsec: 19.47,\n",
       "     vs: 1,\n",
       "     am: 1,\n",
       "     gear: 4,\n",
       "     carb: 1 },\n",
       "  'Honda Civic': \n",
       "   { mpg: 30.4,\n",
       "     cyl: 4,\n",
       "     disp: 75.7,\n",
       "     hp: 52,\n",
       "     drat: 4.93,\n",
       "     wt: 1.615,\n",
       "     qsec: 18.52,\n",
       "     vs: 1,\n",
       "     am: 1,\n",
       "     gear: 4,\n",
       "     carb: 2 },\n",
       "  'Toyota Corolla': \n",
       "   { mpg: 33.9,\n",
       "     cyl: 4,\n",
       "     disp: 71.1,\n",
       "     hp: 65,\n",
       "     drat: 4.22,\n",
       "     wt: 1.835,\n",
       "     qsec: 19.9,\n",
       "     vs: 1,\n",
       "     am: 1,\n",
       "     gear: 4,\n",
       "     carb: 1 },\n",
       "  'Toyota Corona': \n",
       "   { mpg: 21.5,\n",
       "     cyl: 4,\n",
       "     disp: 120.1,\n",
       "     hp: 97,\n",
       "     drat: 3.7,\n",
       "     wt: 2.465,\n",
       "     qsec: 20.01,\n",
       "     vs: 1,\n",
       "     am: 0,\n",
       "     gear: 3,\n",
       "     carb: 1 },\n",
       "  'Dodge Challenger': \n",
       "   { mpg: 15.5,\n",
       "     cyl: 8,\n",
       "     disp: 318,\n",
       "     hp: 150,\n",
       "     drat: 2.76,\n",
       "     wt: 3.52,\n",
       "     qsec: 16.87,\n",
       "     vs: 0,\n",
       "     am: 0,\n",
       "     gear: 3,\n",
       "     carb: 2 },\n",
       "  'AMC Javelin': \n",
       "   { mpg: 15.2,\n",
       "     cyl: 8,\n",
       "     disp: 304,\n",
       "     hp: 150,\n",
       "     drat: 3.15,\n",
       "     wt: 3.435,\n",
       "     qsec: 17.3,\n",
       "     vs: 0,\n",
       "     am: 0,\n",
       "     gear: 3,\n",
       "     carb: 2 },\n",
       "  'Camaro Z28': \n",
       "   { mpg: 13.3,\n",
       "     cyl: 8,\n",
       "     disp: 350,\n",
       "     hp: 245,\n",
       "     drat: 3.73,\n",
       "     wt: 3.84,\n",
       "     qsec: 15.41,\n",
       "     vs: 0,\n",
       "     am: 0,\n",
       "     gear: 3,\n",
       "     carb: 4 },\n",
       "  'Pontiac Firebird': \n",
       "   { mpg: 19.2,\n",
       "     cyl: 8,\n",
       "     disp: 400,\n",
       "     hp: 175,\n",
       "     drat: 3.08,\n",
       "     wt: 3.845,\n",
       "     qsec: 17.05,\n",
       "     vs: 0,\n",
       "     am: 0,\n",
       "     gear: 3,\n",
       "     carb: 2 },\n",
       "  'Fiat X1-9': \n",
       "   { mpg: 27.3,\n",
       "     cyl: 4,\n",
       "     disp: 79,\n",
       "     hp: 66,\n",
       "     drat: 4.08,\n",
       "     wt: 1.935,\n",
       "     qsec: 18.9,\n",
       "     vs: 1,\n",
       "     am: 1,\n",
       "     gear: 4,\n",
       "     carb: 1 },\n",
       "  'Porsche 914-2': \n",
       "   { mpg: 26,\n",
       "     cyl: 4,\n",
       "     disp: 120.3,\n",
       "     hp: 91,\n",
       "     drat: 4.43,\n",
       "     wt: 2.14,\n",
       "     qsec: 16.7,\n",
       "     vs: 0,\n",
       "     am: 1,\n",
       "     gear: 5,\n",
       "     carb: 2 },\n",
       "  'Lotus Europa': \n",
       "   { mpg: 30.4,\n",
       "     cyl: 4,\n",
       "     disp: 95.1,\n",
       "     hp: 113,\n",
       "     drat: 3.77,\n",
       "     wt: 1.513,\n",
       "     qsec: 16.9,\n",
       "     vs: 1,\n",
       "     am: 1,\n",
       "     gear: 5,\n",
       "     carb: 2 },\n",
       "  'Ford Pantera L': \n",
       "   { mpg: 15.8,\n",
       "     cyl: 8,\n",
       "     disp: 351,\n",
       "     hp: 264,\n",
       "     drat: 4.22,\n",
       "     wt: 3.17,\n",
       "     qsec: 14.5,\n",
       "     vs: 0,\n",
       "     am: 1,\n",
       "     gear: 5,\n",
       "     carb: 4 },\n",
       "  'Ferrari Dino': \n",
       "   { mpg: 19.7,\n",
       "     cyl: 6,\n",
       "     disp: 145,\n",
       "     hp: 175,\n",
       "     drat: 3.62,\n",
       "     wt: 2.77,\n",
       "     qsec: 15.5,\n",
       "     vs: 0,\n",
       "     am: 1,\n",
       "     gear: 5,\n",
       "     carb: 6 },\n",
       "  'Maserati Bora': \n",
       "   { mpg: 15,\n",
       "     cyl: 8,\n",
       "     disp: 301,\n",
       "     hp: 335,\n",
       "     drat: 3.54,\n",
       "     wt: 3.57,\n",
       "     qsec: 14.6,\n",
       "     vs: 0,\n",
       "     am: 1,\n",
       "     gear: 5,\n",
       "     carb: 8 },\n",
       "  'Volvo 142E': \n",
       "   { mpg: 21.4,\n",
       "     cyl: 4,\n",
       "     disp: 121,\n",
       "     hp: 109,\n",
       "     drat: 4.11,\n",
       "     wt: 2.78,\n",
       "     qsec: 18.6,\n",
       "     vs: 1,\n",
       "     am: 1,\n",
       "     gear: 4,\n",
       "     carb: 2 } }"
      ]
     },
     "execution_count": 4,
     "metadata": {},
     "output_type": "execute_result"
    }
   ],
   "source": [
    "%get mtcars --from R\n",
    "mtcars"
   ]
  },
  {
   "cell_type": "markdown",
   "metadata": {
    "kernel": "SoS"
   },
   "source": [
    "## `%sessioninfo`"
   ]
  },
  {
   "cell_type": "code",
   "execution_count": 5,
   "metadata": {
    "kernel": "SoS",
    "tags": [
     "report_output"
    ]
   },
   "outputs": [
    {
     "data": {
      "text/html": [
       "<p class=\"session_section\">SoS</p>\n",
       "<table class=\"session_info\">\n",
       "<tr>\n",
       "<th>SoS Version</th><td><pre>0.9.16.8</pre></td>\n",
       "</tr>\n",
       "</table>\n",
       "<p class=\"session_section\">R</p>\n",
       "<table class=\"session_info\">\n",
       "<tr>\n",
       "<th>Kernel</th><td><pre>ir</pre></td>\n",
       "</tr>\n",
       "<tr>\n",
       "<th>Language</th><td><pre>R</pre></td>\n",
       "</tr>\n",
       "<tr>\n",
       "<td colspan=\"2\"><pre>R version 3.5.0 (2018-04-23)\n",
       "Platform: x86_64-apple-darwin13.4.0 (64-bit)\n",
       "Running under: macOS Sierra 10.12.5\n",
       "\n",
       "Matrix products: default\n",
       "BLAS/LAPACK: /Users/bpeng1/anaconda3/envs/JupyterCon18/lib/libopenblasp-r0.2.20.dylib\n",
       "\n",
       "locale:\n",
       "[1] en_US.UTF-8/en_US.UTF-8/en_US.UTF-8/C/en_US.UTF-8/en_US.UTF-8\n",
       "\n",
       "attached base packages:\n",
       "[1] stats     graphics  grDevices utils     datasets  methods   base     \n",
       "\n",
       "other attached packages:\n",
       "[1] feather_0.3.1\n",
       "\n",
       "loaded via a namespace (and not attached):\n",
       " [1] Rcpp_0.12.18    digest_0.6.15   crayon_1.3.4    IRdisplay_0.5.0\n",
       " [5] repr_0.15.0     jsonlite_1.5    magrittr_1.5    evaluate_0.11  \n",
       " [9] pillar_1.3.0    rlang_0.2.2     stringi_1.2.4   uuid_0.1-2     \n",
       "[13] IRkernel_0.8.11 tools_3.5.0     stringr_1.3.1   hms_0.4.2      \n",
       "[17] compiler_3.5.0  pkgconfig_2.0.2 base64enc_0.1-3 htmltools_0.3.6\n",
       "[21] pbdZMQ_0.3-3    tibble_1.4.2   </pre></td>\n",
       "</tr>\n",
       "</table>\n",
       "<p class=\"session_section\">JavaScript</p>\n",
       "<table class=\"session_info\">\n",
       "<tr>\n",
       "<th>Kernel</th><td><pre>javascript</pre></td>\n",
       "</tr>\n",
       "<tr>\n",
       "<th>Language</th><td><pre>JavaScript</pre></td>\n",
       "</tr>\n",
       "</table>\n"
      ]
     },
     "metadata": {},
     "output_type": "display_data"
    }
   ],
   "source": [
    "%sessioninfo"
   ]
  },
  {
   "cell_type": "markdown",
   "metadata": {
    "kernel": "SoS"
   },
   "source": [
    "## `%sossave`"
   ]
  },
  {
   "cell_type": "code",
   "execution_count": 6,
   "metadata": {
    "kernel": "SoS"
   },
   "outputs": [
    {
     "data": {
      "text/html": [
       "<div class=\"sos_hint\">Workflow saved to <a href=\"3_SoS_Magics.html\" target=\"_blank\">3_SoS_Magics.html</a></div>"
      ],
      "text/plain": [
       "Workflow saved to 3_SoS_Magics.html\n"
      ]
     },
     "metadata": {},
     "output_type": "display_data"
    }
   ],
   "source": [
    "%sossave --to html --force"
   ]
  }
 ],
 "metadata": {
  "kernelspec": {
   "display_name": "SoS",
   "language": "sos",
   "name": "sos"
  },
  "language_info": {
   "codemirror_mode": "sos",
   "file_extension": ".sos",
   "mimetype": "text/x-sos",
   "name": "sos",
   "nbconvert_exporter": "sos_notebook.converter.SoS_Exporter",
   "pygments_lexer": "sos"
  },
  "sos": {
   "kernels": [],
   "panel": {
    "displayed": true,
    "height": 0,
    "style": "side"
   },
   "version": "0.9.16.7"
  }
 },
 "nbformat": 4,
 "nbformat_minor": 2
}
