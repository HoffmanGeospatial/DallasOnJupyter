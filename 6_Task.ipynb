{
 "cells": [
  {
   "cell_type": "markdown",
   "metadata": {
    "kernel": "SoS"
   },
   "source": [
    "## External tasks"
   ]
  },
  {
   "cell_type": "markdown",
   "metadata": {
    "kernel": "SoS"
   },
   "source": [
    "The following workflow has a single step that generates a number of files with the number specified by parameter `num`."
   ]
  },
  {
   "cell_type": "markdown",
   "metadata": {
    "kernel": "SoS"
   },
   "source": [
    "The following cell will not be executed directly (with `Ctrl-Enter` or `Shift-Enter`) because it is a formal SoS cell. It has to be executed by magic `%run` or `%sosrun`."
   ]
  },
  {
   "cell_type": "code",
   "execution_count": 1,
   "metadata": {
    "kernel": "SoS"
   },
   "outputs": [],
   "source": [
    "[no_task]\n",
    "parameter: num = 2\n",
    "\n",
    "input: for_each = {'i': range(num)}\n",
    "output: f'test_{i}.txt'\n",
    "\n",
    "sh: expand=True\n",
    "    sleep {3*i}\n",
    "    echo test_{i} > test_{i}.txt\n",
    "    echo \"Test_{i}.txt generated\""
   ]
  },
  {
   "cell_type": "code",
   "execution_count": 2,
   "metadata": {
    "kernel": "SoS"
   },
   "outputs": [
    {
     "name": "stdout",
     "output_type": "stream",
     "text": [
      "Test_0.txt generated\n",
      "Test_1.txt generated\n"
     ]
    }
   ],
   "source": [
    "%sosrun no_task"
   ]
  },
  {
   "cell_type": "markdown",
   "metadata": {
    "kernel": "SoS"
   },
   "source": [
    "When we rerun the workflow with option `--num 3` to generate one more file, the first two are ignored because they have already been generated."
   ]
  },
  {
   "cell_type": "code",
   "execution_count": 3,
   "metadata": {
    "kernel": "SoS"
   },
   "outputs": [
    {
     "name": "stdout",
     "output_type": "stream",
     "text": [
      "Test_2.txt generated\n"
     ]
    }
   ],
   "source": [
    "%sosrun no_task --num 3"
   ]
  },
  {
   "cell_type": "markdown",
   "metadata": {
    "kernel": "SoS"
   },
   "source": [
    "Keyword `task` separates the reset of the step process as external tasks:"
   ]
  },
  {
   "cell_type": "code",
   "execution_count": 4,
   "metadata": {
    "kernel": "SoS"
   },
   "outputs": [],
   "source": [
    "[task]\n",
    "parameter: num = 2\n",
    "\n",
    "input: for_each = {'i': range(num)}\n",
    "output: f'test_{i}.txt'\n",
    "\n",
    "task:\n",
    "sh: expand=True\n",
    "    sleep {5*i}\n",
    "    echo test_{i} > test_{i}.txt\n",
    "    echo \"Test_{i}.txt generated\""
   ]
  },
  {
   "cell_type": "code",
   "execution_count": 8,
   "metadata": {
    "kernel": "SoS",
    "scrolled": true
   },
   "outputs": [
    {
     "data": {
      "text/html": [
       "<div class=\"sos_hint\">2 tasks completed: <a onclick=\"task_info('0d99dbfae16297a2', 'laptop')\">0d99</a>,<a onclick=\"task_info('99f579c29327b621', 'laptop')\">99f5</a></div>"
      ]
     },
     "metadata": {},
     "output_type": "display_data"
    },
    {
     "name": "stdout",
     "output_type": "stream",
     "text": [
      "\n"
     ]
    }
   ],
   "source": [
    "%sosrun task -s force"
   ]
  },
  {
   "cell_type": "markdown",
   "metadata": {
    "kernel": "SoS"
   },
   "source": [
    "## Concurrent execution and external tasks"
   ]
  },
  {
   "cell_type": "code",
   "execution_count": 6,
   "metadata": {
    "kernel": "SoS"
   },
   "outputs": [
    {
     "name": "stdout",
     "output_type": "stream",
     "text": [
      "Counting lines of data/S20_R1.fastq\n",
      "    2000 data/S20_R1.fastq\n",
      "Counting lines of data/S20_R2.fastq\n",
      "    2000 data/S20_R2.fastq\n"
     ]
    }
   ],
   "source": [
    "input: 'data/*.fastq', group_by=1, concurrent=True\n",
    "\n",
    "sh: expand=True\n",
    "    echo \"Counting lines of {_input}\"\n",
    "    sleep {5 * _index}\n",
    "    wc -l {_input}"
   ]
  },
  {
   "cell_type": "code",
   "execution_count": 9,
   "metadata": {
    "kernel": "SoS"
   },
   "outputs": [
    {
     "data": {
      "text/html": [
       "<div class=\"sos_hint\">2 tasks completed: <a onclick=\"task_info('7dfcd85a5954cb1a', 'laptop')\">7dfc</a>,<a onclick=\"task_info('e0823a18054e59d1', 'laptop')\">e082</a></div>"
      ]
     },
     "metadata": {},
     "output_type": "display_data"
    },
    {
     "name": "stdout",
     "output_type": "stream",
     "text": [
      "\n"
     ]
    }
   ],
   "source": [
    "input: 'data/*.fastq', group_by=1\n",
    "\n",
    "task:\n",
    "sh: expand=True\n",
    "    echo \"Counting lines of {_input}\"\n",
    "    sleep {5 * _index}\n",
    "    wc -l {_input}"
   ]
  }
 ],
 "metadata": {
  "kernelspec": {
   "display_name": "SoS",
   "language": "sos",
   "name": "sos"
  },
  "language_info": {
   "codemirror_mode": "sos",
   "file_extension": ".sos",
   "mimetype": "text/x-sos",
   "name": "sos",
   "nbconvert_exporter": "sos_notebook.converter.SoS_Exporter",
   "pygments_lexer": "sos"
  },
  "sos": {
   "default_kernel": "SoS",
   "kernels": [
    [
     "SoS",
     "sos",
     "",
     ""
    ]
   ],
   "panel": {
    "displayed": true,
    "height": 0,
    "style": "side"
   },
   "version": "0.9.16.7"
  }
 },
 "nbformat": 4,
 "nbformat_minor": 2
}
